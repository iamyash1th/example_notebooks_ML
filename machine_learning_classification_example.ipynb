{
 "cells": [
  {
   "cell_type": "markdown",
   "metadata": {},
   "source": [
    "## 1. Setup"
   ]
  },
  {
   "cell_type": "code",
   "execution_count": null,
   "metadata": {},
   "outputs": [],
   "source": [
    "#import sys\n",
    "#!{sys.executable} -m pip install <package list>"
   ]
  },
  {
   "cell_type": "code",
   "execution_count": 1,
   "metadata": {},
   "outputs": [],
   "source": [
    "import pandas as pd\n",
    "import numpy as np\n",
    "import seaborn as sns\n",
    "import matplotlib.pyplot as plt\n",
    "import numpy as np\n",
    "from scipy.stats import norm\n",
    "from sklearn.preprocessing import StandardScaler\n",
    "from scipy import stats\n",
    "import warnings\n",
    "%matplotlib inline\n",
    "pd.set_option('display.float_format', lambda num:'%1.3f'%num)\n",
    "pd.set_option('display.max_columns',99)"
   ]
  },
  {
   "cell_type": "markdown",
   "metadata": {},
   "source": [
    "## 2. Loading data "
   ]
  },
  {
   "cell_type": "code",
   "execution_count": 15,
   "metadata": {},
   "outputs": [],
   "source": [
    "train = pd.read_csv(\"train.csv\", index_col=0)"
   ]
  },
  {
   "cell_type": "code",
   "execution_count": 16,
   "metadata": {},
   "outputs": [
    {
     "data": {
      "text/html": [
       "<div>\n",
       "<style scoped>\n",
       "    .dataframe tbody tr th:only-of-type {\n",
       "        vertical-align: middle;\n",
       "    }\n",
       "\n",
       "    .dataframe tbody tr th {\n",
       "        vertical-align: top;\n",
       "    }\n",
       "\n",
       "    .dataframe thead th {\n",
       "        text-align: right;\n",
       "    }\n",
       "</style>\n",
       "<table border=\"1\" class=\"dataframe\">\n",
       "  <thead>\n",
       "    <tr style=\"text-align: right;\">\n",
       "      <th></th>\n",
       "      <th>surface_area</th>\n",
       "      <th>agricultural_land</th>\n",
       "      <th>forest_area</th>\n",
       "      <th>armed_forces_total</th>\n",
       "      <th>urban_pop_major_cities</th>\n",
       "      <th>urban_pop_minor_cities</th>\n",
       "      <th>national_income</th>\n",
       "      <th>inflation_annual</th>\n",
       "      <th>inflation_monthly</th>\n",
       "      <th>inflation_weekly</th>\n",
       "      <th>mobile_subscriptions</th>\n",
       "      <th>internet_users</th>\n",
       "      <th>secure_internet_servers_total</th>\n",
       "      <th>improved_sanitation</th>\n",
       "      <th>women_parliament_seats_rate</th>\n",
       "      <th>life_expectancy</th>\n",
       "    </tr>\n",
       "  </thead>\n",
       "  <tbody>\n",
       "    <tr>\n",
       "      <th>0</th>\n",
       "      <td>120540.0</td>\n",
       "      <td>2.632839e+06</td>\n",
       "      <td>5.417843e+06</td>\n",
       "      <td>1379000.0</td>\n",
       "      <td>55.747169</td>\n",
       "      <td>4.688831</td>\n",
       "      <td>unknown</td>\n",
       "      <td>NaN</td>\n",
       "      <td>NaN</td>\n",
       "      <td>NaN</td>\n",
       "      <td>less than 1 per person</td>\n",
       "      <td>0 per 1000 people</td>\n",
       "      <td>NaN</td>\n",
       "      <td>high access</td>\n",
       "      <td>[0%-25%)</td>\n",
       "      <td>69.494195</td>\n",
       "    </tr>\n",
       "    <tr>\n",
       "      <th>1</th>\n",
       "      <td>752610.0</td>\n",
       "      <td>2.403039e+07</td>\n",
       "      <td>4.957554e+07</td>\n",
       "      <td>16500.0</td>\n",
       "      <td>16.890687</td>\n",
       "      <td>23.136313</td>\n",
       "      <td>very low</td>\n",
       "      <td>NaN</td>\n",
       "      <td>0.581473</td>\n",
       "      <td>NaN</td>\n",
       "      <td>less than 1 per person</td>\n",
       "      <td>154 per 1000 people</td>\n",
       "      <td>2.623624e+06</td>\n",
       "      <td>low access</td>\n",
       "      <td>[0%-25%)</td>\n",
       "      <td>59.237366</td>\n",
       "    </tr>\n",
       "    <tr>\n",
       "      <th>2</th>\n",
       "      <td>1396.0</td>\n",
       "      <td>3.000000e+03</td>\n",
       "      <td>8.000000e+01</td>\n",
       "      <td>NaN</td>\n",
       "      <td>18.390090</td>\n",
       "      <td>23.139910</td>\n",
       "      <td>unknown</td>\n",
       "      <td>NaN</td>\n",
       "      <td>NaN</td>\n",
       "      <td>NaN</td>\n",
       "      <td>more than 1 per person</td>\n",
       "      <td>90 per 100 people</td>\n",
       "      <td>1.656589e+09</td>\n",
       "      <td>no info</td>\n",
       "      <td>unknown</td>\n",
       "      <td>81.300000</td>\n",
       "    </tr>\n",
       "    <tr>\n",
       "      <th>3</th>\n",
       "      <td>2758812.0</td>\n",
       "      <td>1.228845e+08</td>\n",
       "      <td>1.050943e+08</td>\n",
       "      <td>1518650.0</td>\n",
       "      <td>50.966885</td>\n",
       "      <td>24.522427</td>\n",
       "      <td>high</td>\n",
       "      <td>1.374906</td>\n",
       "      <td>NaN</td>\n",
       "      <td>NaN</td>\n",
       "      <td>more than 1 per person</td>\n",
       "      <td>76 per 100 people</td>\n",
       "      <td>6.625072e+08</td>\n",
       "      <td>very high access</td>\n",
       "      <td>[25%-50%)</td>\n",
       "      <td>81.373197</td>\n",
       "    </tr>\n",
       "    <tr>\n",
       "      <th>4</th>\n",
       "      <td>340.0</td>\n",
       "      <td>1.100000e+04</td>\n",
       "      <td>1.699000e+04</td>\n",
       "      <td>NaN</td>\n",
       "      <td>5.311885</td>\n",
       "      <td>30.271115</td>\n",
       "      <td>unknown</td>\n",
       "      <td>-0.044229</td>\n",
       "      <td>NaN</td>\n",
       "      <td>NaN</td>\n",
       "      <td>more than 1 per person</td>\n",
       "      <td>350 per 1000 people</td>\n",
       "      <td>2.832808e+07</td>\n",
       "      <td>very high access</td>\n",
       "      <td>[25%-50%)</td>\n",
       "      <td>73.193561</td>\n",
       "    </tr>\n",
       "  </tbody>\n",
       "</table>\n",
       "</div>"
      ],
      "text/plain": [
       "   surface_area  agricultural_land   forest_area  armed_forces_total  \\\n",
       "0      120540.0       2.632839e+06  5.417843e+06           1379000.0   \n",
       "1      752610.0       2.403039e+07  4.957554e+07             16500.0   \n",
       "2        1396.0       3.000000e+03  8.000000e+01                 NaN   \n",
       "3     2758812.0       1.228845e+08  1.050943e+08           1518650.0   \n",
       "4         340.0       1.100000e+04  1.699000e+04                 NaN   \n",
       "\n",
       "   urban_pop_major_cities  urban_pop_minor_cities national_income  \\\n",
       "0               55.747169                4.688831         unknown   \n",
       "1               16.890687               23.136313        very low   \n",
       "2               18.390090               23.139910         unknown   \n",
       "3               50.966885               24.522427            high   \n",
       "4                5.311885               30.271115         unknown   \n",
       "\n",
       "   inflation_annual  inflation_monthly  inflation_weekly  \\\n",
       "0               NaN                NaN               NaN   \n",
       "1               NaN           0.581473               NaN   \n",
       "2               NaN                NaN               NaN   \n",
       "3          1.374906                NaN               NaN   \n",
       "4         -0.044229                NaN               NaN   \n",
       "\n",
       "     mobile_subscriptions       internet_users  secure_internet_servers_total  \\\n",
       "0  less than 1 per person    0 per 1000 people                            NaN   \n",
       "1  less than 1 per person  154 per 1000 people                   2.623624e+06   \n",
       "2  more than 1 per person    90 per 100 people                   1.656589e+09   \n",
       "3  more than 1 per person    76 per 100 people                   6.625072e+08   \n",
       "4  more than 1 per person  350 per 1000 people                   2.832808e+07   \n",
       "\n",
       "  improved_sanitation women_parliament_seats_rate  life_expectancy  \n",
       "0         high access                    [0%-25%)        69.494195  \n",
       "1          low access                    [0%-25%)        59.237366  \n",
       "2             no info                     unknown        81.300000  \n",
       "3    very high access                   [25%-50%)        81.373197  \n",
       "4    very high access                   [25%-50%)        73.193561  "
      ]
     },
     "execution_count": 16,
     "metadata": {},
     "output_type": "execute_result"
    }
   ],
   "source": [
    "train.head()"
   ]
  },
  {
   "cell_type": "code",
   "execution_count": 18,
   "metadata": {},
   "outputs": [
    {
     "data": {
      "text/plain": [
       "(362, 16)"
      ]
     },
     "execution_count": 18,
     "metadata": {},
     "output_type": "execute_result"
    }
   ],
   "source": [
    "df.shape"
   ]
  },
  {
   "cell_type": "code",
   "execution_count": 19,
   "metadata": {},
   "outputs": [
    {
     "data": {
      "text/plain": [
       "surface_area                     float64\n",
       "agricultural_land                float64\n",
       "forest_area                      float64\n",
       "armed_forces_total               float64\n",
       "urban_pop_major_cities           float64\n",
       "urban_pop_minor_cities           float64\n",
       "national_income                   object\n",
       "inflation_annual                 float64\n",
       "inflation_monthly                float64\n",
       "inflation_weekly                 float64\n",
       "mobile_subscriptions              object\n",
       "internet_users                    object\n",
       "secure_internet_servers_total    float64\n",
       "improved_sanitation               object\n",
       "women_parliament_seats_rate       object\n",
       "life_expectancy                  float64\n",
       "dtype: object"
      ]
     },
     "execution_count": 19,
     "metadata": {},
     "output_type": "execute_result"
    }
   ],
   "source": [
    "df.dtypes"
   ]
  },
  {
   "cell_type": "code",
   "execution_count": 50,
   "metadata": {},
   "outputs": [],
   "source": [
    "target_var= ['life_expectancy']"
   ]
  },
  {
   "cell_type": "code",
   "execution_count": 59,
   "metadata": {},
   "outputs": [
    {
     "data": {
      "image/png": "[encoded data removed]",
      "text/plain": [
       "<Figure size 432x288 with 1 Axes>"
      ]
     },
     "metadata": {
      "needs_background": "light"
     },
     "output_type": "display_data"
    }
   ],
   "source": [
    "sns.distplot(df[target_var]);"
   ]
  },
  {
   "cell_type": "code",
   "execution_count": 56,
   "metadata": {},
   "outputs": [],
   "source": [
    "categorical_var = list(df.select_dtypes(include=['object']).columns)"
   ]
  },
  {
   "cell_type": "code",
   "execution_count": 57,
   "metadata": {},
   "outputs": [],
   "source": [
    "numeric_var = [x for x in list(df.columns) if x not in categorical_var and x not in target_var]"
   ]
  },
  {
   "cell_type": "code",
   "execution_count": 87,
   "metadata": {},
   "outputs": [
    {
     "data": {
      "text/plain": [
       "['surface_area',\n",
       " 'agricultural_land',\n",
       " 'forest_area',\n",
       " 'armed_forces_total',\n",
       " 'urban_pop_major_cities',\n",
       " 'urban_pop_minor_cities',\n",
       " 'inflation_annual',\n",
       " 'inflation_monthly',\n",
       " 'inflation_weekly',\n",
       " 'secure_internet_servers_total']"
      ]
     },
     "execution_count": 87,
     "metadata": {},
     "output_type": "execute_result"
    }
   ],
   "source": [
    "numeric_var"
   ]
  },
  {
   "cell_type": "code",
   "execution_count": 84,
   "metadata": {},
   "outputs": [
    {
     "data": {
      "text/html": [
       "<div>\n",
       "<style scoped>\n",
       "    .dataframe tbody tr th:only-of-type {\n",
       "        vertical-align: middle;\n",
       "    }\n",
       "\n",
       "    .dataframe tbody tr th {\n",
       "        vertical-align: top;\n",
       "    }\n",
       "\n",
       "    .dataframe thead th {\n",
       "        text-align: right;\n",
       "    }\n",
       "</style>\n",
       "<table border=\"1\" class=\"dataframe\">\n",
       "  <thead>\n",
       "    <tr style=\"text-align: right;\">\n",
       "      <th></th>\n",
       "      <th>surface_area</th>\n",
       "      <th>agricultural_land</th>\n",
       "      <th>forest_area</th>\n",
       "      <th>armed_forces_total</th>\n",
       "      <th>urban_pop_major_cities</th>\n",
       "      <th>urban_pop_minor_cities</th>\n",
       "      <th>inflation_annual</th>\n",
       "      <th>inflation_monthly</th>\n",
       "      <th>inflation_weekly</th>\n",
       "      <th>secure_internet_servers_total</th>\n",
       "      <th>life_expectancy</th>\n",
       "    </tr>\n",
       "  </thead>\n",
       "  <tbody>\n",
       "    <tr>\n",
       "      <th>count</th>\n",
       "      <td>3.620000e+02</td>\n",
       "      <td>3.580000e+02</td>\n",
       "      <td>3.570000e+02</td>\n",
       "      <td>3.180000e+02</td>\n",
       "      <td>360.000000</td>\n",
       "      <td>360.000000</td>\n",
       "      <td>146.000000</td>\n",
       "      <td>156.000000</td>\n",
       "      <td>20.000000</td>\n",
       "      <td>3.520000e+02</td>\n",
       "      <td>362.000000</td>\n",
       "    </tr>\n",
       "    <tr>\n",
       "      <th>mean</th>\n",
       "      <td>4.021884e+06</td>\n",
       "      <td>1.594881e+08</td>\n",
       "      <td>1.204151e+08</td>\n",
       "      <td>9.849864e+05</td>\n",
       "      <td>27.659456</td>\n",
       "      <td>29.175242</td>\n",
       "      <td>1.681539</td>\n",
       "      <td>0.475969</td>\n",
       "      <td>0.396478</td>\n",
       "      <td>2.949654e+08</td>\n",
       "      <td>71.059691</td>\n",
       "    </tr>\n",
       "    <tr>\n",
       "      <th>std</th>\n",
       "      <td>1.234491e+07</td>\n",
       "      <td>4.964143e+08</td>\n",
       "      <td>3.796623e+08</td>\n",
       "      <td>2.994686e+06</td>\n",
       "      <td>20.512885</td>\n",
       "      <td>21.206494</td>\n",
       "      <td>0.980308</td>\n",
       "      <td>0.153430</td>\n",
       "      <td>0.203583</td>\n",
       "      <td>7.234006e+08</td>\n",
       "      <td>8.332818</td>\n",
       "    </tr>\n",
       "    <tr>\n",
       "      <th>min</th>\n",
       "      <td>3.030000e+01</td>\n",
       "      <td>3.000000e+02</td>\n",
       "      <td>0.000000e+00</td>\n",
       "      <td>5.000000e+01</td>\n",
       "      <td>0.091444</td>\n",
       "      <td>0.074575</td>\n",
       "      <td>-2.372263</td>\n",
       "      <td>0.250543</td>\n",
       "      <td>0.209993</td>\n",
       "      <td>4.002500e+04</td>\n",
       "      <td>48.850634</td>\n",
       "    </tr>\n",
       "    <tr>\n",
       "      <th>25%</th>\n",
       "      <td>2.783000e+04</td>\n",
       "      <td>1.054198e+06</td>\n",
       "      <td>4.951445e+05</td>\n",
       "      <td>1.218000e+04</td>\n",
       "      <td>10.624625</td>\n",
       "      <td>11.013743</td>\n",
       "      <td>1.202953</td>\n",
       "      <td>0.347799</td>\n",
       "      <td>0.232118</td>\n",
       "      <td>3.468446e+06</td>\n",
       "      <td>65.469854</td>\n",
       "    </tr>\n",
       "    <tr>\n",
       "      <th>50%</th>\n",
       "      <td>2.037745e+05</td>\n",
       "      <td>5.360256e+06</td>\n",
       "      <td>3.928535e+06</td>\n",
       "      <td>5.352500e+04</td>\n",
       "      <td>24.459439</td>\n",
       "      <td>26.735127</td>\n",
       "      <td>1.762683</td>\n",
       "      <td>0.459790</td>\n",
       "      <td>0.297938</td>\n",
       "      <td>2.671228e+07</td>\n",
       "      <td>73.238024</td>\n",
       "    </tr>\n",
       "    <tr>\n",
       "      <th>75%</th>\n",
       "      <td>1.081610e+06</td>\n",
       "      <td>4.221935e+07</td>\n",
       "      <td>2.241297e+07</td>\n",
       "      <td>2.598000e+05</td>\n",
       "      <td>38.587177</td>\n",
       "      <td>43.499418</td>\n",
       "      <td>2.485675</td>\n",
       "      <td>0.577340</td>\n",
       "      <td>0.537541</td>\n",
       "      <td>2.173937e+08</td>\n",
       "      <td>77.125610</td>\n",
       "    </tr>\n",
       "    <tr>\n",
       "      <th>max</th>\n",
       "      <td>1.343253e+08</td>\n",
       "      <td>5.067600e+09</td>\n",
       "      <td>4.132117e+09</td>\n",
       "      <td>2.720662e+07</td>\n",
       "      <td>92.409069</td>\n",
       "      <td>89.142904</td>\n",
       "      <td>2.997694</td>\n",
       "      <td>0.810152</td>\n",
       "      <td>0.781527</td>\n",
       "      <td>8.207343e+09</td>\n",
       "      <td>83.480488</td>\n",
       "    </tr>\n",
       "  </tbody>\n",
       "</table>\n",
       "</div>"
      ],
      "text/plain": [
       "       surface_area  agricultural_land   forest_area  armed_forces_total  \\\n",
       "count  3.620000e+02       3.580000e+02  3.570000e+02        3.180000e+02   \n",
       "mean   4.021884e+06       1.594881e+08  1.204151e+08        9.849864e+05   \n",
       "std    1.234491e+07       4.964143e+08  3.796623e+08        2.994686e+06   \n",
       "min    3.030000e+01       3.000000e+02  0.000000e+00        5.000000e+01   \n",
       "25%    2.783000e+04       1.054198e+06  4.951445e+05        1.218000e+04   \n",
       "50%    2.037745e+05       5.360256e+06  3.928535e+06        5.352500e+04   \n",
       "75%    1.081610e+06       4.221935e+07  2.241297e+07        2.598000e+05   \n",
       "max    1.343253e+08       5.067600e+09  4.132117e+09        2.720662e+07   \n",
       "\n",
       "       urban_pop_major_cities  urban_pop_minor_cities  inflation_annual  \\\n",
       "count              360.000000              360.000000        146.000000   \n",
       "mean                27.659456               29.175242          1.681539   \n",
       "std                 20.512885               21.206494          0.980308   \n",
       "min                  0.091444                0.074575         -2.372263   \n",
       "25%                 10.624625               11.013743          1.202953   \n",
       "50%                 24.459439               26.735127          1.762683   \n",
       "75%                 38.587177               43.499418          2.485675   \n",
       "max                 92.409069               89.142904          2.997694   \n",
       "\n",
       "       inflation_monthly  inflation_weekly  secure_internet_servers_total  \\\n",
       "count         156.000000         20.000000                   3.520000e+02   \n",
       "mean            0.475969          0.396478                   2.949654e+08   \n",
       "std             0.153430          0.203583                   7.234006e+08   \n",
       "min             0.250543          0.209993                   4.002500e+04   \n",
       "25%             0.347799          0.232118                   3.468446e+06   \n",
       "50%             0.459790          0.297938                   2.671228e+07   \n",
       "75%             0.577340          0.537541                   2.173937e+08   \n",
       "max             0.810152          0.781527                   8.207343e+09   \n",
       "\n",
       "       life_expectancy  \n",
       "count       362.000000  \n",
       "mean         71.059691  \n",
       "std           8.332818  \n",
       "min          48.850634  \n",
       "25%          65.469854  \n",
       "50%          73.238024  \n",
       "75%          77.125610  \n",
       "max          83.480488  "
      ]
     },
     "execution_count": 84,
     "metadata": {},
     "output_type": "execute_result"
    }
   ],
   "source": [
    "df.describe()"
   ]
  },
  {
   "cell_type": "code",
   "execution_count": 85,
   "metadata": {},
   "outputs": [],
   "source": [
    "df_numeric=df.copy()[numeric_var]"
   ]
  },
  {
   "cell_type": "code",
   "execution_count": 86,
   "metadata": {},
   "outputs": [
    {
     "data": {
      "text/html": [
       "<div>\n",
       "<style scoped>\n",
       "    .dataframe tbody tr th:only-of-type {\n",
       "        vertical-align: middle;\n",
       "    }\n",
       "\n",
       "    .dataframe tbody tr th {\n",
       "        vertical-align: top;\n",
       "    }\n",
       "\n",
       "    .dataframe thead th {\n",
       "        text-align: right;\n",
       "    }\n",
       "</style>\n",
       "<table border=\"1\" class=\"dataframe\">\n",
       "  <thead>\n",
       "    <tr style=\"text-align: right;\">\n",
       "      <th></th>\n",
       "      <th>surface_area</th>\n",
       "      <th>agricultural_land</th>\n",
       "      <th>forest_area</th>\n",
       "      <th>armed_forces_total</th>\n",
       "      <th>urban_pop_major_cities</th>\n",
       "      <th>urban_pop_minor_cities</th>\n",
       "      <th>inflation_annual</th>\n",
       "      <th>inflation_monthly</th>\n",
       "      <th>inflation_weekly</th>\n",
       "      <th>secure_internet_servers_total</th>\n",
       "    </tr>\n",
       "  </thead>\n",
       "  <tbody>\n",
       "    <tr>\n",
       "      <th>0</th>\n",
       "      <td>120540.0</td>\n",
       "      <td>2.632839e+06</td>\n",
       "      <td>5.417843e+06</td>\n",
       "      <td>1379000.0</td>\n",
       "      <td>55.747169</td>\n",
       "      <td>4.688831</td>\n",
       "      <td>NaN</td>\n",
       "      <td>NaN</td>\n",
       "      <td>NaN</td>\n",
       "      <td>NaN</td>\n",
       "    </tr>\n",
       "    <tr>\n",
       "      <th>1</th>\n",
       "      <td>752610.0</td>\n",
       "      <td>2.403039e+07</td>\n",
       "      <td>4.957554e+07</td>\n",
       "      <td>16500.0</td>\n",
       "      <td>16.890687</td>\n",
       "      <td>23.136313</td>\n",
       "      <td>NaN</td>\n",
       "      <td>0.581473</td>\n",
       "      <td>NaN</td>\n",
       "      <td>2.623624e+06</td>\n",
       "    </tr>\n",
       "    <tr>\n",
       "      <th>2</th>\n",
       "      <td>1396.0</td>\n",
       "      <td>3.000000e+03</td>\n",
       "      <td>8.000000e+01</td>\n",
       "      <td>NaN</td>\n",
       "      <td>18.390090</td>\n",
       "      <td>23.139910</td>\n",
       "      <td>NaN</td>\n",
       "      <td>NaN</td>\n",
       "      <td>NaN</td>\n",
       "      <td>1.656589e+09</td>\n",
       "    </tr>\n",
       "    <tr>\n",
       "      <th>3</th>\n",
       "      <td>2758812.0</td>\n",
       "      <td>1.228845e+08</td>\n",
       "      <td>1.050943e+08</td>\n",
       "      <td>1518650.0</td>\n",
       "      <td>50.966885</td>\n",
       "      <td>24.522427</td>\n",
       "      <td>1.374906</td>\n",
       "      <td>NaN</td>\n",
       "      <td>NaN</td>\n",
       "      <td>6.625072e+08</td>\n",
       "    </tr>\n",
       "    <tr>\n",
       "      <th>4</th>\n",
       "      <td>340.0</td>\n",
       "      <td>1.100000e+04</td>\n",
       "      <td>1.699000e+04</td>\n",
       "      <td>NaN</td>\n",
       "      <td>5.311885</td>\n",
       "      <td>30.271115</td>\n",
       "      <td>-0.044229</td>\n",
       "      <td>NaN</td>\n",
       "      <td>NaN</td>\n",
       "      <td>2.832808e+07</td>\n",
       "    </tr>\n",
       "  </tbody>\n",
       "</table>\n",
       "</div>"
      ],
      "text/plain": [
       "   surface_area  agricultural_land   forest_area  armed_forces_total  \\\n",
       "0      120540.0       2.632839e+06  5.417843e+06           1379000.0   \n",
       "1      752610.0       2.403039e+07  4.957554e+07             16500.0   \n",
       "2        1396.0       3.000000e+03  8.000000e+01                 NaN   \n",
       "3     2758812.0       1.228845e+08  1.050943e+08           1518650.0   \n",
       "4         340.0       1.100000e+04  1.699000e+04                 NaN   \n",
       "\n",
       "   urban_pop_major_cities  urban_pop_minor_cities  inflation_annual  \\\n",
       "0               55.747169                4.688831               NaN   \n",
       "1               16.890687               23.136313               NaN   \n",
       "2               18.390090               23.139910               NaN   \n",
       "3               50.966885               24.522427          1.374906   \n",
       "4                5.311885               30.271115         -0.044229   \n",
       "\n",
       "   inflation_monthly  inflation_weekly  secure_internet_servers_total  \n",
       "0                NaN               NaN                            NaN  \n",
       "1           0.581473               NaN                   2.623624e+06  \n",
       "2                NaN               NaN                   1.656589e+09  \n",
       "3                NaN               NaN                   6.625072e+08  \n",
       "4                NaN               NaN                   2.832808e+07  "
      ]
     },
     "execution_count": 86,
     "metadata": {},
     "output_type": "execute_result"
    }
   ],
   "source": [
    "df_numeric.head()"
   ]
  },
  {
   "cell_type": "code",
   "execution_count": 88,
   "metadata": {},
   "outputs": [],
   "source": [
    "df_categorical=df.copy()[categorical_var]"
   ]
  },
  {
   "cell_type": "code",
   "execution_count": 89,
   "metadata": {},
   "outputs": [
    {
     "data": {
      "text/html": [
       "<div>\n",
       "<style scoped>\n",
       "    .dataframe tbody tr th:only-of-type {\n",
       "        vertical-align: middle;\n",
       "    }\n",
       "\n",
       "    .dataframe tbody tr th {\n",
       "        vertical-align: top;\n",
       "    }\n",
       "\n",
       "    .dataframe thead th {\n",
       "        text-align: right;\n",
       "    }\n",
       "</style>\n",
       "<table border=\"1\" class=\"dataframe\">\n",
       "  <thead>\n",
       "    <tr style=\"text-align: right;\">\n",
       "      <th></th>\n",
       "      <th>national_income</th>\n",
       "      <th>mobile_subscriptions</th>\n",
       "      <th>internet_users</th>\n",
       "      <th>improved_sanitation</th>\n",
       "      <th>women_parliament_seats_rate</th>\n",
       "    </tr>\n",
       "  </thead>\n",
       "  <tbody>\n",
       "    <tr>\n",
       "      <th>0</th>\n",
       "      <td>unknown</td>\n",
       "      <td>less than 1 per person</td>\n",
       "      <td>0 per 1000 people</td>\n",
       "      <td>high access</td>\n",
       "      <td>[0%-25%)</td>\n",
       "    </tr>\n",
       "    <tr>\n",
       "      <th>1</th>\n",
       "      <td>very low</td>\n",
       "      <td>less than 1 per person</td>\n",
       "      <td>154 per 1000 people</td>\n",
       "      <td>low access</td>\n",
       "      <td>[0%-25%)</td>\n",
       "    </tr>\n",
       "    <tr>\n",
       "      <th>2</th>\n",
       "      <td>unknown</td>\n",
       "      <td>more than 1 per person</td>\n",
       "      <td>90 per 100 people</td>\n",
       "      <td>no info</td>\n",
       "      <td>unknown</td>\n",
       "    </tr>\n",
       "    <tr>\n",
       "      <th>3</th>\n",
       "      <td>high</td>\n",
       "      <td>more than 1 per person</td>\n",
       "      <td>76 per 100 people</td>\n",
       "      <td>very high access</td>\n",
       "      <td>[25%-50%)</td>\n",
       "    </tr>\n",
       "    <tr>\n",
       "      <th>4</th>\n",
       "      <td>unknown</td>\n",
       "      <td>more than 1 per person</td>\n",
       "      <td>350 per 1000 people</td>\n",
       "      <td>very high access</td>\n",
       "      <td>[25%-50%)</td>\n",
       "    </tr>\n",
       "  </tbody>\n",
       "</table>\n",
       "</div>"
      ],
      "text/plain": [
       "  national_income    mobile_subscriptions       internet_users  \\\n",
       "0         unknown  less than 1 per person    0 per 1000 people   \n",
       "1        very low  less than 1 per person  154 per 1000 people   \n",
       "2         unknown  more than 1 per person    90 per 100 people   \n",
       "3            high  more than 1 per person    76 per 100 people   \n",
       "4         unknown  more than 1 per person  350 per 1000 people   \n",
       "\n",
       "  improved_sanitation women_parliament_seats_rate  \n",
       "0         high access                    [0%-25%)  \n",
       "1          low access                    [0%-25%)  \n",
       "2             no info                     unknown  \n",
       "3    very high access                   [25%-50%)  \n",
       "4    very high access                   [25%-50%)  "
      ]
     },
     "execution_count": 89,
     "metadata": {},
     "output_type": "execute_result"
    }
   ],
   "source": [
    "df_categorical.head()"
   ]
  },
  {
   "cell_type": "code",
   "execution_count": 101,
   "metadata": {},
   "outputs": [],
   "source": [
    "df_labels = df.copy()[target_var].copy()"
   ]
  },
  {
   "cell_type": "code",
   "execution_count": 102,
   "metadata": {},
   "outputs": [
    {
     "data": {
      "text/html": [
       "<div>\n",
       "<style scoped>\n",
       "    .dataframe tbody tr th:only-of-type {\n",
       "        vertical-align: middle;\n",
       "    }\n",
       "\n",
       "    .dataframe tbody tr th {\n",
       "        vertical-align: top;\n",
       "    }\n",
       "\n",
       "    .dataframe thead th {\n",
       "        text-align: right;\n",
       "    }\n",
       "</style>\n",
       "<table border=\"1\" class=\"dataframe\">\n",
       "  <thead>\n",
       "    <tr style=\"text-align: right;\">\n",
       "      <th></th>\n",
       "      <th>life_expectancy</th>\n",
       "    </tr>\n",
       "  </thead>\n",
       "  <tbody>\n",
       "    <tr>\n",
       "      <th>0</th>\n",
       "      <td>69.494195</td>\n",
       "    </tr>\n",
       "    <tr>\n",
       "      <th>1</th>\n",
       "      <td>59.237366</td>\n",
       "    </tr>\n",
       "    <tr>\n",
       "      <th>2</th>\n",
       "      <td>81.300000</td>\n",
       "    </tr>\n",
       "    <tr>\n",
       "      <th>3</th>\n",
       "      <td>81.373197</td>\n",
       "    </tr>\n",
       "    <tr>\n",
       "      <th>4</th>\n",
       "      <td>73.193561</td>\n",
       "    </tr>\n",
       "  </tbody>\n",
       "</table>\n",
       "</div>"
      ],
      "text/plain": [
       "   life_expectancy\n",
       "0        69.494195\n",
       "1        59.237366\n",
       "2        81.300000\n",
       "3        81.373197\n",
       "4        73.193561"
      ]
     },
     "execution_count": 102,
     "metadata": {},
     "output_type": "execute_result"
    }
   ],
   "source": [
    "df_labels.head()"
   ]
  },
  {
   "cell_type": "markdown",
   "metadata": {},
   "source": [
    "## 3. Exploratory analysis - data visualization "
   ]
  },
  {
   "cell_type": "markdown",
   "metadata": {},
   "source": [
    "### 3.1 target variable vs categorical variables"
   ]
  },
  {
   "cell_type": "code",
   "execution_count": null,
   "metadata": {},
   "outputs": [],
   "source": [
    "for var in categorical_var:\n",
    " f,ax=plt.subplots(1,2,figsize=(24,12))\n",
    " train[[var,'Target']].groupby([var]).mean().plot.bar(ax=ax[0])\n",
    " #ax[0].set_title('Target vs var')\n",
    " sns.countplot(var,hue='Target',data=train,ax=ax[1])\n",
    " #ax[1].set_title('variable :Target vs No Target')\n",
    " plt.show()"
   ]
  },
  {
   "cell_type": "markdown",
   "metadata": {},
   "source": [
    "### 3.2 target variable vs numeric variables"
   ]
  },
  {
   "cell_type": "code",
   "execution_count": 79,
   "metadata": {},
   "outputs": [
    {
     "data": {
      "image/png": "[encoded data removed]",
      "text/plain": [
       "<Figure size 864x432 with 1 Axes>"
      ]
     },
     "metadata": {
      "needs_background": "light"
     },
     "output_type": "display_data"
    },
    {
     "data": {
      "image/png": "[encoded data removed]",
      "text/plain": [
       "<Figure size 864x432 with 1 Axes>"
      ]
     },
     "metadata": {
      "needs_background": "light"
     },
     "output_type": "display_data"
    },
    {
     "data": {
      "image/png": "[encoded data removed]",
      "text/plain": [
       "<Figure size 864x432 with 1 Axes>"
      ]
     },
     "metadata": {
      "needs_background": "light"
     },
     "output_type": "display_data"
    },
    {
     "data": {
      "image/png": "[encoded data removed]",
      "text/plain": [
       "<Figure size 864x432 with 1 Axes>"
      ]
     },
     "metadata": {
      "needs_background": "light"
     },
     "output_type": "display_data"
    },
    {
     "data": {
      "image/png": "[encoded data removed]",
      "text/plain": [
       "<Figure size 864x432 with 1 Axes>"
      ]
     },
     "metadata": {
      "needs_background": "light"
     },
     "output_type": "display_data"
    }
   ],
   "source": [
    "for var in numeric_var:\n",
    " data = pd.concat([train[var], train[target_var]], axis=1)\n",
    " f, ax = plt.subplots(figsize=(12, 6))\n",
    " fig = sns.boxplot(x=\"Tarhet\", y=var, data=data)"
   ]
  },
  {
   "cell_type": "markdown",
   "metadata": {},
   "source": [
    "### 3.3 Histogram plot"
   ]
  },
  {
   "cell_type": "code",
   "execution_count": 65,
   "metadata": {},
   "outputs": [
    {
     "data": {
      "image/png": "[encoded data removed]",
      "text/plain": [
       "<Figure size 1440x1080 with 12 Axes>"
      ]
     },
     "metadata": {
      "needs_background": "light"
     },
     "output_type": "display_data"
    }
   ],
   "source": [
    "%matplotlib inline\n",
    "import matplotlib.pyplot as plt\n",
    "df.hist(bins=50, figsize=(20,15))\n",
    "plt.show()"
   ]
  },
  {
   "cell_type": "code",
   "execution_count": 80,
   "metadata": {},
   "outputs": [
    {
     "data": {
      "image/png": "[encoded data removed]",
      "text/plain": [
       "<Figure size 864x648 with 2 Axes>"
      ]
     },
     "metadata": {
      "needs_background": "light"
     },
     "output_type": "display_data"
    }
   ],
   "source": [
    "#correlation matrix\n",
    "corrmat = df.corr()\n",
    "f, ax = plt.subplots(figsize=(12, 9))\n",
    "sns.heatmap(corrmat, vmax=.8, square=True);"
   ]
  },
  {
   "cell_type": "markdown",
   "metadata": {},
   "source": [
    "## 4. Data wrangling"
   ]
  },
  {
   "cell_type": "markdown",
   "metadata": {},
   "source": [
    "### 4.1 Missing value detection"
   ]
  },
  {
   "cell_type": "code",
   "execution_count": 83,
   "metadata": {},
   "outputs": [
    {
     "data": {
      "text/html": [
       "<div>\n",
       "<style scoped>\n",
       "    .dataframe tbody tr th:only-of-type {\n",
       "        vertical-align: middle;\n",
       "    }\n",
       "\n",
       "    .dataframe tbody tr th {\n",
       "        vertical-align: top;\n",
       "    }\n",
       "\n",
       "    .dataframe thead th {\n",
       "        text-align: right;\n",
       "    }\n",
       "</style>\n",
       "<table border=\"1\" class=\"dataframe\">\n",
       "  <thead>\n",
       "    <tr style=\"text-align: right;\">\n",
       "      <th></th>\n",
       "      <th>Total</th>\n",
       "      <th>Percent</th>\n",
       "    </tr>\n",
       "  </thead>\n",
       "  <tbody>\n",
       "    <tr>\n",
       "      <th>inflation_weekly</th>\n",
       "      <td>342</td>\n",
       "      <td>0.944751</td>\n",
       "    </tr>\n",
       "    <tr>\n",
       "      <th>inflation_annual</th>\n",
       "      <td>216</td>\n",
       "      <td>0.596685</td>\n",
       "    </tr>\n",
       "    <tr>\n",
       "      <th>inflation_monthly</th>\n",
       "      <td>206</td>\n",
       "      <td>0.569061</td>\n",
       "    </tr>\n",
       "    <tr>\n",
       "      <th>armed_forces_total</th>\n",
       "      <td>44</td>\n",
       "      <td>0.121547</td>\n",
       "    </tr>\n",
       "    <tr>\n",
       "      <th>secure_internet_servers_total</th>\n",
       "      <td>10</td>\n",
       "      <td>0.027624</td>\n",
       "    </tr>\n",
       "    <tr>\n",
       "      <th>forest_area</th>\n",
       "      <td>5</td>\n",
       "      <td>0.013812</td>\n",
       "    </tr>\n",
       "    <tr>\n",
       "      <th>agricultural_land</th>\n",
       "      <td>4</td>\n",
       "      <td>0.011050</td>\n",
       "    </tr>\n",
       "    <tr>\n",
       "      <th>urban_pop_minor_cities</th>\n",
       "      <td>2</td>\n",
       "      <td>0.005525</td>\n",
       "    </tr>\n",
       "    <tr>\n",
       "      <th>urban_pop_major_cities</th>\n",
       "      <td>2</td>\n",
       "      <td>0.005525</td>\n",
       "    </tr>\n",
       "    <tr>\n",
       "      <th>life_expectancy</th>\n",
       "      <td>0</td>\n",
       "      <td>0.000000</td>\n",
       "    </tr>\n",
       "    <tr>\n",
       "      <th>women_parliament_seats_rate</th>\n",
       "      <td>0</td>\n",
       "      <td>0.000000</td>\n",
       "    </tr>\n",
       "    <tr>\n",
       "      <th>improved_sanitation</th>\n",
       "      <td>0</td>\n",
       "      <td>0.000000</td>\n",
       "    </tr>\n",
       "    <tr>\n",
       "      <th>internet_users</th>\n",
       "      <td>0</td>\n",
       "      <td>0.000000</td>\n",
       "    </tr>\n",
       "    <tr>\n",
       "      <th>mobile_subscriptions</th>\n",
       "      <td>0</td>\n",
       "      <td>0.000000</td>\n",
       "    </tr>\n",
       "    <tr>\n",
       "      <th>national_income</th>\n",
       "      <td>0</td>\n",
       "      <td>0.000000</td>\n",
       "    </tr>\n",
       "    <tr>\n",
       "      <th>surface_area</th>\n",
       "      <td>0</td>\n",
       "      <td>0.000000</td>\n",
       "    </tr>\n",
       "  </tbody>\n",
       "</table>\n",
       "</div>"
      ],
      "text/plain": [
       "                               Total   Percent\n",
       "inflation_weekly                 342  0.944751\n",
       "inflation_annual                 216  0.596685\n",
       "inflation_monthly                206  0.569061\n",
       "armed_forces_total                44  0.121547\n",
       "secure_internet_servers_total     10  0.027624\n",
       "forest_area                        5  0.013812\n",
       "agricultural_land                  4  0.011050\n",
       "urban_pop_minor_cities             2  0.005525\n",
       "urban_pop_major_cities             2  0.005525\n",
       "life_expectancy                    0  0.000000\n",
       "women_parliament_seats_rate        0  0.000000\n",
       "improved_sanitation                0  0.000000\n",
       "internet_users                     0  0.000000\n",
       "mobile_subscriptions               0  0.000000\n",
       "national_income                    0  0.000000\n",
       "surface_area                       0  0.000000"
      ]
     },
     "execution_count": 83,
     "metadata": {},
     "output_type": "execute_result"
    }
   ],
   "source": [
    "#missing data\n",
    "total = df.isnull().sum().sort_values(ascending=False)\n",
    "percent = (df.isnull().sum()/df.isnull().count()).sort_values(ascending=False)\n",
    "missing_data = pd.concat([total, percent], axis=1, keys=['Total', 'Percent'])\n",
    "missing_data.head(20)"
   ]
  },
  {
   "cell_type": "markdown",
   "metadata": {},
   "source": [
    "### 4.2 Outlier detection"
   ]
  },
  {
   "cell_type": "code",
   "execution_count": null,
   "metadata": {},
   "outputs": [],
   "source": [
    "#standardizing data\n",
    "df_labels_scaled = StandardScaler().fit_transform(df_labels['SalePrice'][:,np.newaxis]);\n",
    "low_range = saleprice_scaled[saleprice_scaled[:,0].argsort()][:10]\n",
    "high_range= saleprice_scaled[saleprice_scaled[:,0].argsort()][-10:]\n",
    "print('outer range (low) of the distribution:')\n",
    "print(low_range)\n",
    "print('\\nouter range (high) of the distribution:')\n",
    "print(high_range)"
   ]
  },
  {
   "cell_type": "markdown",
   "metadata": {},
   "source": [
    "###  transformation"
   ]
  },
  {
   "cell_type": "code",
   "execution_count": null,
   "metadata": {},
   "outputs": [],
   "source": []
  },
  {
   "cell_type": "code",
   "execution_count": null,
   "metadata": {},
   "outputs": [],
   "source": []
  },
  {
   "cell_type": "markdown",
   "metadata": {},
   "source": [
    "### imputating"
   ]
  },
  {
   "cell_type": "code",
   "execution_count": 97,
   "metadata": {},
   "outputs": [],
   "source": [
    "from sklearn.pipeline import Pipeline\n",
    "from sklearn.preprocessing import StandardScaler \n",
    "from sklearn.impute import SimpleImputer\n",
    "from sklearn.preprocessing import FunctionTransformer \n",
    "from sklearn.preprocessing import OneHotEncoder\n",
    "\n",
    "num_pipeline = Pipeline([\n",
    "        ('imputer', SimpleImputer(strategy=\"median\")),\n",
    "        ('std_scaler', StandardScaler()),\n",
    "    ])\n",
    "\n",
    "#housing_num_tr = num_pipeline.fit_transform(housing_num)"
   ]
  },
  {
   "cell_type": "code",
   "execution_count": 98,
   "metadata": {},
   "outputs": [],
   "source": [
    "from sklearn.compose import ColumnTransformer\n",
    "full_pipeline = ColumnTransformer([\n",
    "        (\"num\", num_pipeline, target_var),\n",
    "        (\"cat\", OneHotEncoder(), categorical_var),\n",
    "    ])\n",
    "\n",
    "df_prepared = full_pipeline.fit_transform(df)"
   ]
  },
  {
   "cell_type": "code",
   "execution_count": 100,
   "metadata": {},
   "outputs": [
    {
     "data": {
      "text/plain": [
       "(362, 221)"
      ]
     },
     "execution_count": 100,
     "metadata": {},
     "output_type": "execute_result"
    }
   ],
   "source": [
    "df_prepared.shape"
   ]
  },
  {
   "cell_type": "markdown",
   "metadata": {},
   "source": [
    "### summarization"
   ]
  },
  {
   "cell_type": "code",
   "execution_count": null,
   "metadata": {},
   "outputs": [],
   "source": []
  },
  {
   "cell_type": "code",
   "execution_count": null,
   "metadata": {},
   "outputs": [],
   "source": []
  },
  {
   "cell_type": "markdown",
   "metadata": {},
   "source": [
    "### normalization"
   ]
  },
  {
   "cell_type": "code",
   "execution_count": null,
   "metadata": {},
   "outputs": [],
   "source": []
  },
  {
   "cell_type": "code",
   "execution_count": null,
   "metadata": {},
   "outputs": [],
   "source": []
  },
  {
   "cell_type": "markdown",
   "metadata": {},
   "source": [
    "###  outlier/anomaly detection"
   ]
  },
  {
   "cell_type": "code",
   "execution_count": null,
   "metadata": {},
   "outputs": [],
   "source": []
  },
  {
   "cell_type": "code",
   "execution_count": null,
   "metadata": {},
   "outputs": [],
   "source": []
  },
  {
   "cell_type": "markdown",
   "metadata": {},
   "source": [
    "### Target variable vs numeric variables"
   ]
  },
  {
   "cell_type": "code",
   "execution_count": null,
   "metadata": {},
   "outputs": [],
   "source": []
  },
  {
   "cell_type": "markdown",
   "metadata": {},
   "source": [
    "## Model training"
   ]
  },
  {
   "cell_type": "code",
   "execution_count": null,
   "metadata": {},
   "outputs": [],
   "source": [
    "from sklearn.linear_model import LinearRegression\n",
    "\n",
    "lin_reg = LinearRegression()\n",
    "lin_reg.fit(df_prepared, df_labels)\n",
    "\n",
    "from sklearn.metrics import mean_squared_error\n",
    "\n",
    "housing_predictions = lin_reg.predict(housing_prepared)\n",
    "lin_mse = mean_squared_error(housing_labels, housing_predictions)\n",
    "lin_rmse = np.sqrt(lin_mse)\n",
    "lin_rmse"
   ]
  },
  {
   "cell_type": "code",
   "execution_count": 108,
   "metadata": {},
   "outputs": [
    {
     "name": "stderr",
     "output_type": "stream",
     "text": [
      "/Users/yashu/anaconda3/lib/python3.7/site-packages/ipykernel_launcher.py:13: DataConversionWarning: A column-vector y was passed when a 1d array was expected. Please change the shape of y to (n_samples,), for example using ravel().\n",
      "  del sys.path[0]\n",
      "/Users/yashu/anaconda3/lib/python3.7/site-packages/sklearn/model_selection/_validation.py:528: DataConversionWarning: A column-vector y was passed when a 1d array was expected. Please change the shape of y to (n_samples,), for example using ravel().\n",
      "  estimator.fit(X_train, y_train, **fit_params)\n",
      "/Users/yashu/anaconda3/lib/python3.7/site-packages/sklearn/model_selection/_validation.py:528: DataConversionWarning: A column-vector y was passed when a 1d array was expected. Please change the shape of y to (n_samples,), for example using ravel().\n",
      "  estimator.fit(X_train, y_train, **fit_params)\n",
      "/Users/yashu/anaconda3/lib/python3.7/site-packages/sklearn/model_selection/_validation.py:528: DataConversionWarning: A column-vector y was passed when a 1d array was expected. Please change the shape of y to (n_samples,), for example using ravel().\n",
      "  estimator.fit(X_train, y_train, **fit_params)\n",
      "/Users/yashu/anaconda3/lib/python3.7/site-packages/sklearn/model_selection/_validation.py:528: DataConversionWarning: A column-vector y was passed when a 1d array was expected. Please change the shape of y to (n_samples,), for example using ravel().\n",
      "  estimator.fit(X_train, y_train, **fit_params)\n",
      "/Users/yashu/anaconda3/lib/python3.7/site-packages/sklearn/model_selection/_validation.py:528: DataConversionWarning: A column-vector y was passed when a 1d array was expected. Please change the shape of y to (n_samples,), for example using ravel().\n",
      "  estimator.fit(X_train, y_train, **fit_params)\n",
      "/Users/yashu/anaconda3/lib/python3.7/site-packages/sklearn/model_selection/_validation.py:528: DataConversionWarning: A column-vector y was passed when a 1d array was expected. Please change the shape of y to (n_samples,), for example using ravel().\n",
      "  estimator.fit(X_train, y_train, **fit_params)\n",
      "/Users/yashu/anaconda3/lib/python3.7/site-packages/sklearn/model_selection/_validation.py:528: DataConversionWarning: A column-vector y was passed when a 1d array was expected. Please change the shape of y to (n_samples,), for example using ravel().\n",
      "  estimator.fit(X_train, y_train, **fit_params)\n"
     ]
    },
    {
     "name": "stdout",
     "output_type": "stream",
     "text": [
      "Scores: [nan nan nan nan nan nan nan nan nan nan]\n",
      "Mean: nan\n",
      "Standard deviation: nan\n"
     ]
    },
    {
     "name": "stderr",
     "output_type": "stream",
     "text": [
      "/Users/yashu/anaconda3/lib/python3.7/site-packages/sklearn/model_selection/_validation.py:528: DataConversionWarning: A column-vector y was passed when a 1d array was expected. Please change the shape of y to (n_samples,), for example using ravel().\n",
      "  estimator.fit(X_train, y_train, **fit_params)\n",
      "/Users/yashu/anaconda3/lib/python3.7/site-packages/sklearn/model_selection/_validation.py:528: DataConversionWarning: A column-vector y was passed when a 1d array was expected. Please change the shape of y to (n_samples,), for example using ravel().\n",
      "  estimator.fit(X_train, y_train, **fit_params)\n",
      "/Users/yashu/anaconda3/lib/python3.7/site-packages/sklearn/model_selection/_validation.py:528: DataConversionWarning: A column-vector y was passed when a 1d array was expected. Please change the shape of y to (n_samples,), for example using ravel().\n",
      "  estimator.fit(X_train, y_train, **fit_params)\n",
      "/Users/yashu/anaconda3/lib/python3.7/site-packages/ipykernel_launcher.py:26: RuntimeWarning: invalid value encountered in sqrt\n"
     ]
    }
   ],
   "source": [
    "from sklearn.ensemble import RandomForestRegressor\n",
    "from sklearn.metrics import mean_squared_error \n",
    "\n",
    "def display_scores(scores):\n",
    "    print(\"Scores:\", scores)\n",
    "    print(\"Mean:\", scores.mean())\n",
    "    print(\"Standard deviation:\", scores.std())\n",
    "    \n",
    "\n",
    "from sklearn.model_selection import cross_val_score\n",
    "\n",
    "forest_reg = RandomForestRegressor(n_estimators=10, random_state=42)\n",
    "forest_reg.fit(df_prepared, df_labels)\n",
    "\n",
    "df_predictions = forest_reg.predict(df_prepared)\n",
    "forest_mse = mean_squared_error(df_labels, df_predictions)\n",
    "forest_rmse = np.sqrt(forest_mse)\n",
    "forest_rmse\n",
    "\n",
    "\n",
    "\n",
    "\n",
    "\n",
    "forest_scores = cross_val_score(forest_reg, df_prepared, df_labels,\n",
    "                                scoring=\"neg_mean_squared_error\", cv=10)\n",
    "forest_rmse_scores = np.sqrt(forest_scores)\n",
    "display_scores(forest_rmse_scores)"
   ]
  },
  {
   "cell_type": "code",
   "execution_count": null,
   "metadata": {},
   "outputs": [],
   "source": []
  },
  {
   "cell_type": "markdown",
   "metadata": {},
   "source": [
    "## Model predictions"
   ]
  },
  {
   "cell_type": "code",
   "execution_count": null,
   "metadata": {},
   "outputs": [],
   "source": [
    "final_model = grid_search.best_estimator_\n",
    "\n",
    "X_test = strat_test_set.drop(\"median_house_value\", axis=1)\n",
    "y_test = strat_test_set[\"median_house_value\"].copy()\n",
    "\n",
    "X_test_prepared = full_pipeline.transform(X_test)\n",
    "final_predictions = final_model.predict(X_test_prepared)\n",
    "\n",
    "final_mse = mean_squared_error(y_test, final_predictions)\n",
    "final_rmse = np.sqrt(final_mse)"
   ]
  },
  {
   "cell_type": "markdown",
   "metadata": {},
   "source": [
    "## Model explainability"
   ]
  },
  {
   "cell_type": "code",
   "execution_count": null,
   "metadata": {},
   "outputs": [],
   "source": []
  },
  {
   "cell_type": "code",
   "execution_count": null,
   "metadata": {},
   "outputs": [],
   "source": []
  },
  {
   "cell_type": "code",
   "execution_count": null,
   "metadata": {},
   "outputs": [],
   "source": []
  }
 ],
 "metadata": {
  "kernelspec": {
   "display_name": "Python 3",
   "language": "python",
   "name": "python3"
  },
  "language_info": {
   "codemirror_mode": {
    "name": "ipython",
    "version": 3
   },
   "file_extension": ".py",
   "mimetype": "text/x-python",
   "name": "python",
   "nbconvert_exporter": "python",
   "pygments_lexer": "ipython3",
   "version": "3.7.1"
  }
 },
 "nbformat": 4,
 "nbformat_minor": 2
}
